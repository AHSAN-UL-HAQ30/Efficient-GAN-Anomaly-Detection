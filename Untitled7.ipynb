{
  "nbformat": 4,
  "nbformat_minor": 0,
  "metadata": {
    "colab": {
      "name": "Untitled7.ipynb",
      "provenance": [],
      "collapsed_sections": [],
      "authorship_tag": "ABX9TyOdxf8fu/EYRj7YOWT3gPVr",
      "include_colab_link": true
    },
    "kernelspec": {
      "name": "python3",
      "display_name": "Python 3"
    }
  },
  "cells": [
    {
      "cell_type": "markdown",
      "metadata": {
        "id": "view-in-github",
        "colab_type": "text"
      },
      "source": [
        "<a href=\"https://colab.research.google.com/github/AHSAN-UL-HAQ30/Efficient-GAN-Anomaly-Detection/blob/master/Untitled7.ipynb\" target=\"_parent\"><img src=\"https://colab.research.google.com/assets/colab-badge.svg\" alt=\"Open In Colab\"/></a>"
      ]
    },
    {
      "cell_type": "code",
      "metadata": {
        "colab": {
          "base_uri": "https://localhost:8080/"
        },
        "id": "BrZOWG0vo43h",
        "outputId": "6f5aef4c-5ad9-40fa-a5d8-8bd4bf63bcce"
      },
      "source": [
        "!git clone https://github.com/Titan-BT-7274/Density-Based-Outlier-Detection"
      ],
      "execution_count": 1,
      "outputs": [
        {
          "output_type": "stream",
          "text": [
            "Cloning into 'Density-Based-Outlier-Detection'...\n",
            "remote: Enumerating objects: 23, done.\u001b[K\n",
            "remote: Total 23 (delta 0), reused 0 (delta 0), pack-reused 23\u001b[K\n",
            "Unpacking objects: 100% (23/23), done.\n"
          ],
          "name": "stdout"
        }
      ]
    },
    {
      "cell_type": "code",
      "metadata": {
        "colab": {
          "base_uri": "https://localhost:8080/"
        },
        "id": "ClxNWL0Ro_9P",
        "outputId": "02fc8f8c-7cdf-41c7-9f2a-49d9bb8ca0ce"
      },
      "source": [
        "%cd /content/Density-Based-Outlier-Detection"
      ],
      "execution_count": 2,
      "outputs": [
        {
          "output_type": "stream",
          "text": [
            "/content/Density-Based-Outlier-Detection\n"
          ],
          "name": "stdout"
        }
      ]
    },
    {
      "cell_type": "code",
      "metadata": {
        "colab": {
          "base_uri": "https://localhost:8080/"
        },
        "id": "Yrb-go6tpCqX",
        "outputId": "96e618e5-842e-4802-cff2-d6f3c4aba726"
      },
      "source": [
        "!python Outlier.py"
      ],
      "execution_count": 12,
      "outputs": [
        {
          "output_type": "stream",
          "text": [
            "Experiment: 1 , k = 60 , num_outliers = 700\n",
            "Outlier.py:109: RuntimeWarning: divide by zero encountered in double_scalars\n",
            "  lrd[i] = len(kneighbours[i])/sumOfReachabilityDistances\n",
            "Accuracy : 0.546 Precision : 0.6257142857142857 Recall : 0.6952380952380952 F1-Score : 0.6586466165413534\n",
            "\n",
            "Experiment: 2 , k = 40 , num_outliers = 600\n",
            "Accuracy : 0.54 Precision : 0.6416666666666667 Recall : 0.6111111111111112 F1-Score : 0.6260162601626018\n",
            "\n",
            "Experiment: 3 , k = 50 , num_outliers = 500\n",
            "Accuracy : 0.492 Precision : 0.622 Recall : 0.4936507936507937 F1-Score : 0.5504424778761063\n",
            "\n"
          ],
          "name": "stdout"
        }
      ]
    },
    {
      "cell_type": "code",
      "metadata": {
        "id": "GwMoeN9e7YXP"
      },
      "source": [
        ""
      ],
      "execution_count": null,
      "outputs": []
    }
  ]
}